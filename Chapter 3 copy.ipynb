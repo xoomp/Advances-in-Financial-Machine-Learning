{
 "cells": [
  {
   "cell_type": "code",
   "execution_count": 2,
   "metadata": {},
   "outputs": [
    {
     "name": "stdout",
     "output_type": "stream",
     "text": [
      "\n"
     ]
    }
   ],
   "source": [
    "%load_ext autoreload\n",
    "%autoreload 2\n",
    "\n",
    "# get project dir\n",
    "# import standard libs\n",
    "from IPython.display import display\n",
    "from IPython.core.debugger import set_trace as bp\n",
    "from pathlib import PurePath, Path\n",
    "import sys\n",
    "import time\n",
    "from collections import OrderedDict as od\n",
    "import re\n",
    "import os\n",
    "import json\n",
    "\n",
    "pp = PurePath(Path.cwd()).parts[:]\n",
    "pdir = PurePath(*pp)\n",
    "data_script_dir = pdir / 'src' / 'data'\n",
    "bars_script_dir = pdir / 'src' / 'features'\n",
    "sys.path.append(data_script_dir.as_posix())\n",
    "sys.path.append(bars_script_dir.as_posix())\n",
    "viz_dir = pdir / 'reports' / 'figures'\n",
    "data_dir = pdir / 'data'\n",
    "\n",
    "# import python scientific stack\n",
    "import pandas as pd\n",
    "pd.set_option('display.max_rows', 100)\n",
    "from dask import dataframe as dd\n",
    "from dask.diagnostics import ProgressBar\n",
    "from multiprocessing import cpu_count\n",
    "pbar = ProgressBar()\n",
    "pbar.register()\n",
    "import numpy as np\n",
    "import scipy.stats as stats\n",
    "import statsmodels.api as sm\n",
    "from numba import jit\n",
    "import math\n",
    "\n",
    "# import visual tools\n",
    "import matplotlib as mpl\n",
    "import matplotlib.pyplot as plt\n",
    "import matplotlib.gridspec as gridspec\n",
    "%matplotlib inline\n",
    "import seaborn as sns\n",
    "\n",
    "plt.style.use('seaborn-talk')\n",
    "plt.style.use('bmh')\n",
    "#plt.rcParams['font.family'] = 'DejaVu Sans Mono'\n",
    "plt.rcParams['font.size'] = 9.5\n",
    "plt.rcParams['font.weight'] = 'medium'\n",
    "plt.rcParams['figure.figsize'] = 10,7\n",
    "blue, green, red, purple, gold, teal = sns.color_palette('colorblind', 6)\n",
    "\n",
    "# import util libs\n",
    "# from tqdm import tqdm, tqdm_notebook\n",
    "import warnings\n",
    "warnings.filterwarnings(\"ignore\")\n",
    "from utils import *\n",
    "from bars import *\n",
    "from labelling import *\n",
    "\n",
    "RANDOM_STATE = 777\n",
    "\n",
    "print()"
   ]
  },
  {
   "cell_type": "code",
   "execution_count": 6,
   "metadata": {},
   "outputs": [],
   "source": [
    "def read_bbg_ticks(fp):\n",
    "    df = (pd.read_csv(infp)\n",
    "            .assign(dates = lambda raw_df: pd.to_datetime(raw_df['Unnamed: 0']))\n",
    "            .assign(volume = lambda raw_df: raw_df['size'])\n",
    "            .assign(price = lambda raw_df: raw_df['value'])\n",
    "            .drop(['Unnamed: 0','type','size','value'],axis = 1)\n",
    "            #.set_index('dates')\n",
    "         )\n",
    "    return df"
   ]
  },
  {
   "cell_type": "code",
   "execution_count": 16,
   "metadata": {},
   "outputs": [],
   "source": [
    "# infp = PurePath(data_dir/'raw'/'12 HK Equity.csv')\n",
    "# df = read_bbg_ticks(infp)\n",
    "\n",
    "\n",
    "symbol_pair = 'BTCUSDT'\n",
    "df = pd.read_csv(f'../binance-quant-AI/{symbol_pair}/{symbol_pair}-1m.csv')\n",
    "df.columns=['ktime', 'open', 'high', 'low', 'close', 'volume', 'ctime', 'qvolume', 'trades_num', 'buy_volume', 'buy_qvolume', 'ignore']\n",
    "df = df.loc[:, ['ktime', 'open', 'high', 'low', 'close', 'volume']]\n",
    "df.columns=['Date', 'Open', 'High', 'Low', 'Close', 'Volume']\n",
    "# df['ktime'] = df['Date'] / 1000\n",
    "# 然后 将该DataFrame对象处理为适合我们使用的格式\n",
    "# df.rename(\n",
    "#     columns={\n",
    "#         'trade_date': 'Date', 'open': 'Open',\n",
    "#         'high': 'High', 'low': 'Low',\n",
    "#         'close': 'Close', 'vol': 'Volume'},\n",
    "#     inplace=True)       # 重定义列名，方便统一规范操作。\n",
    "df['Date'] = pd.to_datetime(df['Date'], unit='ms')  # 转换日期列的格式，便于作图\n",
    "# df.set_index(['Date'], inplace=True)  # 将日期列作为行索引\n",
    "# df.index.name = 'ktime'\n",
    "# df = df.sort_index()\n",
    "df = df.loc[:, ['Date', 'Volume', 'Close']]\n",
    "df.columns = ['dates', 'volume', 'price']"
   ]
  },
  {
   "cell_type": "code",
   "execution_count": 10,
   "metadata": {},
   "outputs": [
    {
     "name": "stdout",
     "output_type": "stream",
     "text": [
      "-------------------------------------------------------------------------------\n",
      "dataframe information\n",
      "-------------------------------------------------------------------------------\n",
      "                      dates    volume     price\n",
      "2509834 2022-05-31 23:55:00  38.03685  31800.00\n",
      "2509835 2022-05-31 23:56:00  37.68903  31781.50\n",
      "2509836 2022-05-31 23:57:00  25.69627  31792.07\n",
      "2509837 2022-05-31 23:58:00  38.47696  31780.00\n",
      "2509838 2022-05-31 23:59:00  23.39204  31801.04\n",
      "--------------------------------------------------\n",
      "<class 'pandas.core.frame.DataFrame'>\n",
      "RangeIndex: 2509839 entries, 0 to 2509838\n",
      "Data columns (total 3 columns):\n",
      " #   Column  Dtype         \n",
      "---  ------  -----         \n",
      " 0   dates   datetime64[ns]\n",
      " 1   volume  float64       \n",
      " 2   price   float64       \n",
      "dtypes: datetime64[ns](1), float64(2)\n",
      "memory usage: 57.4 MB\n",
      "None\n",
      "-------------------------------------------------------------------------------\n",
      "\n"
     ]
    }
   ],
   "source": [
    "cprint(df)"
   ]
  },
  {
   "cell_type": "code",
   "execution_count": 4,
   "metadata": {},
   "outputs": [
    {
     "name": "stdout",
     "output_type": "stream",
     "text": [
      "-------------------------------------------------------------------------------\n",
      "dataframe information\n",
      "-------------------------------------------------------------------------------\n",
      "                     dates  volume  price\n",
      "191886 2018-10-03 16:08:25    2000   39.0\n",
      "191887 2018-10-03 16:08:25   10000   39.0\n",
      "191888 2018-10-03 16:08:25    1000   39.0\n",
      "191889 2018-10-03 16:08:25    1000   39.0\n",
      "191890 2018-10-03 16:08:27       0   39.0\n",
      "--------------------------------------------------\n",
      "<class 'pandas.core.frame.DataFrame'>\n",
      "RangeIndex: 191891 entries, 0 to 191890\n",
      "Data columns (total 3 columns):\n",
      "dates     191891 non-null datetime64[ns]\n",
      "volume    191891 non-null int64\n",
      "price     191891 non-null float64\n",
      "dtypes: datetime64[ns](1), float64(1), int64(1)\n",
      "memory usage: 4.4 MB\n",
      "None\n",
      "-------------------------------------------------------------------------------\n",
      "\n"
     ]
    }
   ],
   "source": [
    "cprint(df)"
   ]
  },
  {
   "cell_type": "code",
   "execution_count": 11,
   "metadata": {},
   "outputs": [],
   "source": [
    "n_ticks = df.shape[0]"
   ]
  },
  {
   "cell_type": "code",
   "execution_count": 12,
   "metadata": {},
   "outputs": [
    {
     "name": "stdout",
     "output_type": "stream",
     "text": [
      "35.0\n"
     ]
    }
   ],
   "source": [
    "volume_ratio = (df.volume.sum()/n_ticks).round()\n",
    "print(volume_ratio)"
   ]
  },
  {
   "cell_type": "code",
   "execution_count": 13,
   "metadata": {},
   "outputs": [],
   "source": [
    "volume_M = volume_ratio"
   ]
  },
  {
   "cell_type": "code",
   "execution_count": 14,
   "metadata": {},
   "outputs": [],
   "source": [
    "v_bar_df = volume_bar_df(df,'volume',volume_M)"
   ]
  },
  {
   "cell_type": "code",
   "execution_count": 17,
   "metadata": {},
   "outputs": [
    {
     "name": "stdout",
     "output_type": "stream",
     "text": [
      "-------------------------------------------------------------------------------\n",
      "dataframe information\n",
      "-------------------------------------------------------------------------------\n",
      "                      dates    volume     price\n",
      "2509834 2022-05-31 23:55:00  38.03685  31800.00\n",
      "2509835 2022-05-31 23:56:00  37.68903  31781.50\n",
      "2509836 2022-05-31 23:57:00  25.69627  31792.07\n",
      "2509837 2022-05-31 23:58:00  38.47696  31780.00\n",
      "2509838 2022-05-31 23:59:00  23.39204  31801.04\n",
      "--------------------------------------------------\n",
      "<class 'pandas.core.frame.DataFrame'>\n",
      "RangeIndex: 2509839 entries, 0 to 2509838\n",
      "Data columns (total 3 columns):\n",
      " #   Column  Dtype         \n",
      "---  ------  -----         \n",
      " 0   dates   datetime64[ns]\n",
      " 1   volume  float64       \n",
      " 2   price   float64       \n",
      "dtypes: datetime64[ns](1), float64(2)\n",
      "memory usage: 57.4 MB\n",
      "None\n",
      "-------------------------------------------------------------------------------\n",
      "\n"
     ]
    }
   ],
   "source": [
    "v_bar_df = df\n",
    "cprint(v_bar_df)"
   ]
  },
  {
   "cell_type": "code",
   "execution_count": 9,
   "metadata": {},
   "outputs": [
    {
     "name": "stdout",
     "output_type": "stream",
     "text": [
      "-------------------------------------------------------------------------------\n",
      "dataframe information\n",
      "-------------------------------------------------------------------------------\n",
      "                         dates  volume  price\n",
      "191849 2018-10-03 16:08:25.004   15000   39.0\n",
      "191851 2018-10-03 16:08:25.005   17000   39.0\n",
      "191856 2018-10-03 16:08:25.006    3000   39.0\n",
      "191872 2018-10-03 16:08:25.007    2000   39.0\n",
      "191879 2018-10-03 16:08:25.008   10000   39.0\n",
      "--------------------------------------------------\n",
      "<class 'pandas.core.frame.DataFrame'>\n",
      "Int64Index: 68235 entries, 1 to 191879\n",
      "Data columns (total 3 columns):\n",
      "dates     68235 non-null datetime64[ns]\n",
      "volume    68235 non-null int64\n",
      "price     68235 non-null float64\n",
      "dtypes: datetime64[ns](1), float64(1), int64(1)\n",
      "memory usage: 2.1 MB\n",
      "None\n",
      "-------------------------------------------------------------------------------\n",
      "\n"
     ]
    }
   ],
   "source": [
    "cprint(v_bar_df)"
   ]
  },
  {
   "cell_type": "code",
   "execution_count": 18,
   "metadata": {},
   "outputs": [],
   "source": [
    "v_bar_df.set_index('dates', inplace=True)"
   ]
  },
  {
   "cell_type": "code",
   "execution_count": 11,
   "metadata": {},
   "outputs": [
    {
     "name": "stdout",
     "output_type": "stream",
     "text": [
      "-------------------------------------------------------------------------------\n",
      "dataframe information\n",
      "-------------------------------------------------------------------------------\n",
      "                         volume  price\n",
      "dates                                 \n",
      "2018-10-03 16:08:25.004   15000   39.0\n",
      "2018-10-03 16:08:25.005   17000   39.0\n",
      "2018-10-03 16:08:25.006    3000   39.0\n",
      "2018-10-03 16:08:25.007    2000   39.0\n",
      "2018-10-03 16:08:25.008   10000   39.0\n",
      "--------------------------------------------------\n",
      "<class 'pandas.core.frame.DataFrame'>\n",
      "DatetimeIndex: 68235 entries, 2018-03-23 09:20:00 to 2018-10-03 16:08:25.008000\n",
      "Data columns (total 2 columns):\n",
      "volume    68235 non-null int64\n",
      "price     68235 non-null float64\n",
      "dtypes: float64(1), int64(1)\n",
      "memory usage: 1.6 MB\n",
      "None\n",
      "-------------------------------------------------------------------------------\n",
      "\n"
     ]
    }
   ],
   "source": [
    "cprint(v_bar_df)"
   ]
  },
  {
   "cell_type": "code",
   "execution_count": 26,
   "metadata": {},
   "outputs": [],
   "source": [
    "close = v_bar_df.price.copy()\n",
    "dailyVol = getDailyVol(close)"
   ]
  },
  {
   "cell_type": "code",
   "execution_count": 27,
   "metadata": {},
   "outputs": [
    {
     "name": "stdout",
     "output_type": "stream",
     "text": [
      "-------------------------------------------------------------------------------\n",
      "dataframe information\n",
      "-------------------------------------------------------------------------------\n",
      "                     dailyVol\n",
      "dates                        \n",
      "2022-05-31 23:55:00  0.004664\n",
      "2022-05-31 23:56:00  0.004634\n",
      "2022-05-31 23:57:00  0.004594\n",
      "2022-05-31 23:58:00  0.004567\n",
      "2022-05-31 23:59:00  0.004531\n",
      "--------------------------------------------------\n",
      "<class 'pandas.core.frame.DataFrame'>\n",
      "DatetimeIndex: 2508398 entries, 2017-08-18 04:01:00 to 2022-05-31 23:59:00\n",
      "Data columns (total 1 columns):\n",
      " #   Column    Dtype  \n",
      "---  ------    -----  \n",
      " 0   dailyVol  float64\n",
      "dtypes: float64(1)\n",
      "memory usage: 38.3 MB\n",
      "None\n",
      "-------------------------------------------------------------------------------\n",
      "\n"
     ]
    }
   ],
   "source": [
    "cprint(dailyVol)"
   ]
  },
  {
   "cell_type": "code",
   "execution_count": 13,
   "metadata": {},
   "outputs": [
    {
     "name": "stdout",
     "output_type": "stream",
     "text": [
      "-------------------------------------------------------------------------------\n",
      "dataframe information\n",
      "-------------------------------------------------------------------------------\n",
      "                         dailyVol\n",
      "dates                            \n",
      "2018-10-03 16:08:25.004  0.003088\n",
      "2018-10-03 16:08:25.005  0.003058\n",
      "2018-10-03 16:08:25.006  0.003029\n",
      "2018-10-03 16:08:25.007  0.003000\n",
      "2018-10-03 16:08:25.008  0.002971\n",
      "--------------------------------------------------\n",
      "<class 'pandas.core.frame.DataFrame'>\n",
      "DatetimeIndex: 67321 entries, 2018-03-26 09:20:00 to 2018-10-03 16:08:25.008000\n",
      "Data columns (total 1 columns):\n",
      "dailyVol    67320 non-null float64\n",
      "dtypes: float64(1)\n",
      "memory usage: 1.0 MB\n",
      "None\n",
      "-------------------------------------------------------------------------------\n",
      "\n"
     ]
    }
   ],
   "source": [
    "cprint(dailyVol)"
   ]
  },
  {
   "cell_type": "code",
   "execution_count": 14,
   "metadata": {},
   "outputs": [
    {
     "name": "stdout",
     "output_type": "stream",
     "text": [
      "-------------------------------------------------------------------------------\n",
      "dataframe information\n",
      "-------------------------------------------------------------------------------\n",
      "                         dailyVol\n",
      "dates                            \n",
      "2018-10-03 16:08:25.004  0.003088\n",
      "2018-10-03 16:08:25.005  0.003058\n",
      "2018-10-03 16:08:25.006  0.003029\n",
      "2018-10-03 16:08:25.007  0.003000\n",
      "2018-10-03 16:08:25.008  0.002971\n",
      "--------------------------------------------------\n",
      "<class 'pandas.core.frame.DataFrame'>\n",
      "DatetimeIndex: 67321 entries, 2018-03-26 09:20:00 to 2018-10-03 16:08:25.008000\n",
      "Data columns (total 1 columns):\n",
      "dailyVol    67320 non-null float64\n",
      "dtypes: float64(1)\n",
      "memory usage: 1.0 MB\n",
      "None\n",
      "-------------------------------------------------------------------------------\n",
      "\n"
     ]
    }
   ],
   "source": [
    "cprint(dailyVol.to_frame())"
   ]
  },
  {
   "cell_type": "code",
   "execution_count": 56,
   "metadata": {},
   "outputs": [],
   "source": [
    "threshold = 1.65*dailyVol.std()+ dailyVol.mean()\n",
    "retClose = returns(close)\n",
    "tEvents = getTEvents(retClose, h = threshold)"
   ]
  },
  {
   "cell_type": "code",
   "execution_count": 69,
   "metadata": {},
   "outputs": [
    {
     "data": {
      "text/plain": [
       "DatetimeIndex(['2017-08-17 10:06:00', '2017-08-17 10:20:00',\n",
       "               '2017-08-17 10:35:00', '2017-08-17 14:26:00',\n",
       "               '2017-08-18 09:49:00', '2017-08-18 09:51:00',\n",
       "               '2017-08-18 12:45:00', '2017-08-18 12:47:00',\n",
       "               '2017-08-18 13:25:00', '2017-08-18 14:44:00',\n",
       "               ...\n",
       "               '2022-05-12 09:41:00', '2022-05-12 09:42:00',\n",
       "               '2022-05-12 12:03:00', '2022-05-12 13:43:00',\n",
       "               '2022-05-12 13:55:00', '2022-05-13 13:32:00',\n",
       "               '2022-05-20 14:38:00', '2022-05-26 13:15:00',\n",
       "               '2022-05-26 13:17:00', '2022-05-31 13:30:00'],\n",
       "              dtype='datetime64[ns]', length=3204, freq=None)"
      ]
     },
     "execution_count": 69,
     "metadata": {},
     "output_type": "execute_result"
    }
   ],
   "source": [
    "tEvents"
   ]
  },
  {
   "cell_type": "code",
   "execution_count": 16,
   "metadata": {},
   "outputs": [
    {
     "data": {
      "text/plain": [
       "DatetimeIndex([       '2018-03-23 09:31:00',        '2018-03-23 15:07:16',\n",
       "                      '2018-03-23 15:08:00',        '2018-03-23 15:10:31',\n",
       "                      '2018-03-26 09:20:00', '2018-03-26 09:20:00.001000',\n",
       "                      '2018-03-27 09:20:00', '2018-03-27 09:20:00.001000',\n",
       "                      '2018-03-29 09:30:01',        '2018-03-29 09:30:24',\n",
       "               ...\n",
       "                      '2018-10-02 09:30:04',        '2018-10-02 09:30:05',\n",
       "                      '2018-10-02 09:30:07',        '2018-10-02 09:30:27',\n",
       "                      '2018-10-02 09:30:36',        '2018-10-03 09:20:00',\n",
       "               '2018-10-03 09:20:00.001000', '2018-10-03 09:30:01.001000',\n",
       "                      '2018-10-03 09:30:03',        '2018-10-03 09:30:06'],\n",
       "              dtype='datetime64[ns]', length=423, freq=None)"
      ]
     },
     "execution_count": 16,
     "metadata": {},
     "output_type": "execute_result"
    }
   ],
   "source": [
    "tEvents"
   ]
  },
  {
   "cell_type": "code",
   "execution_count": 58,
   "metadata": {},
   "outputs": [],
   "source": [
    "t1 = addVerticalBarrier(tEvents, close)"
   ]
  },
  {
   "cell_type": "code",
   "execution_count": 31,
   "metadata": {},
   "outputs": [
    {
     "name": "stdout",
     "output_type": "stream",
     "text": [
      "-------------------------------------------------------------------------------\n",
      "dataframe information\n",
      "-------------------------------------------------------------------------------\n",
      "                                  dates\n",
      "2022-05-13 13:32:00 2022-05-13 21:32:00\n",
      "2022-05-20 14:38:00 2022-05-20 22:38:00\n",
      "2022-05-26 13:15:00 2022-05-26 21:15:00\n",
      "2022-05-26 13:17:00 2022-05-26 21:17:00\n",
      "2022-05-31 13:30:00 2022-05-31 21:30:00\n",
      "--------------------------------------------------\n",
      "<class 'pandas.core.frame.DataFrame'>\n",
      "DatetimeIndex: 3204 entries, 2017-08-17 10:06:00 to 2022-05-31 13:30:00\n",
      "Data columns (total 1 columns):\n",
      " #   Column  Non-Null Count  Dtype         \n",
      "---  ------  --------------  -----         \n",
      " 0   dates   3204 non-null   datetime64[ns]\n",
      "dtypes: datetime64[ns](1)\n",
      "memory usage: 50.1 KB\n",
      "None\n",
      "-------------------------------------------------------------------------------\n",
      "\n"
     ]
    }
   ],
   "source": [
    "cprint(t1)"
   ]
  },
  {
   "cell_type": "code",
   "execution_count": 60,
   "metadata": {},
   "outputs": [
    {
     "name": "stderr",
     "output_type": "stream",
     "text": [
      "2022-10-23 18:24:28.264381 100.0% applyPtSlOnT1 done after 0.04 minutes. Remaining 0.0 minutes.\n"
     ]
    }
   ],
   "source": [
    "ptSl = [1,1]\n",
    "target = dailyVol\n",
    "# print(tEvents[4:])\n",
    "# select minRet\n",
    "minRet = 0.001\n",
    "# Run in single-threaded mode on Windows\n",
    "import platform\n",
    "\n",
    "if platform.system() == 'Windows':\n",
    "    cpus = 1\n",
    "else:\n",
    "    cpus = cpu_count() - 1\n",
    "\n",
    "events = getEvents(close, tEvents[4:], ptSl, target, minRet, 1, t1 = t1)\n",
    "\n",
    "\n"
   ]
  },
  {
   "cell_type": "code",
   "execution_count": 61,
   "metadata": {},
   "outputs": [
    {
     "name": "stdout",
     "output_type": "stream",
     "text": [
      "-------------------------------------------------------------------------------\n",
      "dataframe information\n",
      "-------------------------------------------------------------------------------\n",
      "                                     t1      trgt\n",
      "2022-05-13 13:32:00 2022-05-13 14:02:00  0.009069\n",
      "2022-05-20 14:38:00 2022-05-20 14:53:00  0.010389\n",
      "2022-05-26 13:15:00 2022-05-26 13:16:00  0.005521\n",
      "2022-05-26 13:17:00 2022-05-26 13:34:00  0.007394\n",
      "2022-05-31 13:30:00 2022-05-31 13:33:00  0.004958\n",
      "--------------------------------------------------\n",
      "<class 'pandas.core.frame.DataFrame'>\n",
      "DatetimeIndex: 3200 entries, 2017-08-18 09:49:00 to 2022-05-31 13:30:00\n",
      "Data columns (total 2 columns):\n",
      " #   Column  Non-Null Count  Dtype         \n",
      "---  ------  --------------  -----         \n",
      " 0   t1      3200 non-null   datetime64[ns]\n",
      " 1   trgt    3200 non-null   float64       \n",
      "dtypes: datetime64[ns](1), float64(1)\n",
      "memory usage: 75.0 KB\n",
      "None\n",
      "-------------------------------------------------------------------------------\n",
      "\n"
     ]
    }
   ],
   "source": [
    "cprint(events)"
   ]
  },
  {
   "cell_type": "code",
   "execution_count": 62,
   "metadata": {},
   "outputs": [],
   "source": [
    "labels = getBins(events, close)"
   ]
  },
  {
   "cell_type": "code",
   "execution_count": 63,
   "metadata": {},
   "outputs": [
    {
     "name": "stdout",
     "output_type": "stream",
     "text": [
      "-------------------------------------------------------------------------------\n",
      "dataframe information\n",
      "-------------------------------------------------------------------------------\n",
      "                          ret  bin\n",
      "2022-05-13 13:32:00  0.009911  1.0\n",
      "2022-05-20 14:38:00 -0.010651 -1.0\n",
      "2022-05-26 13:15:00 -0.006056 -1.0\n",
      "2022-05-26 13:17:00  0.007751  1.0\n",
      "2022-05-31 13:30:00 -0.005216 -1.0\n",
      "--------------------------------------------------\n",
      "<class 'pandas.core.frame.DataFrame'>\n",
      "DatetimeIndex: 3200 entries, 2017-08-18 09:49:00 to 2022-05-31 13:30:00\n",
      "Data columns (total 2 columns):\n",
      " #   Column  Non-Null Count  Dtype  \n",
      "---  ------  --------------  -----  \n",
      " 0   ret     3200 non-null   float64\n",
      " 1   bin     3200 non-null   float64\n",
      "dtypes: float64(2)\n",
      "memory usage: 75.0 KB\n",
      "None\n",
      "-------------------------------------------------------------------------------\n",
      "\n"
     ]
    }
   ],
   "source": [
    "cprint(labels)"
   ]
  },
  {
   "cell_type": "code",
   "execution_count": 64,
   "metadata": {},
   "outputs": [
    {
     "data": {
      "text/plain": [
       " 1.0    1694\n",
       "-1.0    1506\n",
       "Name: bin, dtype: int64"
      ]
     },
     "execution_count": 64,
     "metadata": {},
     "output_type": "execute_result"
    }
   ],
   "source": [
    "labels.bin.value_counts()"
   ]
  },
  {
   "cell_type": "code",
   "execution_count": 65,
   "metadata": {},
   "outputs": [
    {
     "name": "stdout",
     "output_type": "stream",
     "text": [
      "-------------------------------------------------------------------------------\n",
      "dataframe information\n",
      "-------------------------------------------------------------------------------\n",
      "                        price          fast          slow\n",
      "dates                                                    \n",
      "2022-05-31 23:55:00  31800.00  31839.742206  31850.544393\n",
      "2022-05-31 23:56:00  31781.50  31825.181655  31841.913844\n",
      "2022-05-31 23:57:00  31792.07  31816.903741  31835.683363\n",
      "2022-05-31 23:58:00  31780.00  31807.677806  31828.722943\n",
      "2022-05-31 23:59:00  31801.04  31806.018354  31825.262575\n",
      "--------------------------------------------------\n",
      "<class 'pandas.core.frame.DataFrame'>\n",
      "DatetimeIndex: 2509839 entries, 2017-08-17 04:00:00 to 2022-05-31 23:59:00\n",
      "Data columns (total 3 columns):\n",
      " #   Column  Dtype  \n",
      "---  ------  -----  \n",
      " 0   price   float64\n",
      " 1   fast    float64\n",
      " 2   slow    float64\n",
      "dtypes: float64(3)\n",
      "memory usage: 141.1 MB\n",
      "None\n",
      "-------------------------------------------------------------------------------\n",
      "\n"
     ]
    }
   ],
   "source": [
    "fast_window = 3\n",
    "slow_window = 7\n",
    "\n",
    "close_df = (pd.DataFrame()\n",
    "            .assign(price = close)\n",
    "            .assign(fast  = close.ewm(fast_window).mean())\n",
    "            .assign(slow  = close.ewm(slow_window).mean()))\n",
    "cprint(close_df)"
   ]
  },
  {
   "cell_type": "code",
   "execution_count": 66,
   "metadata": {},
   "outputs": [
    {
     "data": {
      "text/plain": [
       "<AxesSubplot:xlabel='dates'>"
      ]
     },
     "execution_count": 66,
     "metadata": {},
     "output_type": "execute_result"
    },
    {
     "data": {
      "image/png": "[encoded data removed]",
      "text/plain": [
       "<Figure size 792x576 with 1 Axes>"
      ]
     },
     "metadata": {
      "needs_background": "light"
     },
     "output_type": "display_data"
    }
   ],
   "source": [
    "def get_up_cross(df):\n",
    "    crit1 = df.fast.shift(1) < df.slow.shift(1)\n",
    "    crit2 = df.fast > df.slow\n",
    "    return df.fast[(crit1)&(crit2)]\n",
    "\n",
    "def get_down_cross(df):\n",
    "    crit1 = df.fast.shift(1) > df.slow.shift(1)\n",
    "    crit2 = df.fast < df.slow\n",
    "    return df.slow[(crit1) & (crit2)]\n",
    "\n",
    "up = get_up_cross(close_df)\n",
    "down = get_down_cross(close_df)\n",
    "\n",
    "f, ax = plt.subplots(figsize=(11,8))\n",
    "\n",
    "close_df.loc['2022-05-31 22:00:00':].plot(ax=ax,alpha=.5)\n",
    "up.loc['2022-05-31 22:00:00':].plot(ax=ax,\n",
    "                     ls='',\n",
    "                     marker='^',\n",
    "                     markersize=7,\n",
    "                     alpha=.75,\n",
    "                     label='upcross',\n",
    "                     color = 'g')\n",
    "down.loc['2022-05-31 22:00:00':].plot(ax=ax,\n",
    "                     ls='',\n",
    "                     marker='v',\n",
    "                     markersize=7,\n",
    "                     alpha=.75,\n",
    "                     label='downcross',\n",
    "                     color = 'r')\n"
   ]
  },
  {
   "cell_type": "code",
   "execution_count": 67,
   "metadata": {},
   "outputs": [
    {
     "name": "stdout",
     "output_type": "stream",
     "text": [
      "-------------------------------------------------------------------------------\n",
      "dataframe information\n",
      "-------------------------------------------------------------------------------\n",
      "                     0\n",
      "dates                 \n",
      "2022-05-31 23:08:00 -1\n",
      "2022-05-31 23:21:00  1\n",
      "2022-05-31 23:38:00 -1\n",
      "2022-05-31 23:52:00  1\n",
      "2022-05-31 23:54:00 -1\n",
      "--------------------------------------------------\n",
      "<class 'pandas.core.frame.DataFrame'>\n",
      "DatetimeIndex: 163317 entries, 2017-08-17 04:04:00 to 2022-05-31 23:54:00\n",
      "Data columns (total 1 columns):\n",
      " #   Column  Non-Null Count   Dtype\n",
      "---  ------  --------------   -----\n",
      " 0   0       163317 non-null  int64\n",
      "dtypes: int64(1)\n",
      "memory usage: 2.5 MB\n",
      "None\n",
      "-------------------------------------------------------------------------------\n",
      "\n"
     ]
    }
   ],
   "source": [
    "# trading signal\n",
    "side_up = pd.Series(1,index = up.index)\n",
    "side_down = pd.Series(-1, index = down.index)\n",
    "side = pd.concat([side_up, side_down]).sort_index()\n",
    "cprint(side)"
   ]
  },
  {
   "cell_type": "code",
   "execution_count": 83,
   "metadata": {},
   "outputs": [
    {
     "name": "stdout",
     "output_type": "stream",
     "text": [
      "DatetimeIndex(['2017-08-18 10:01:00', '2017-08-18 10:06:00',\n",
      "               '2017-08-18 10:09:00', '2017-08-18 10:48:00',\n",
      "               '2017-08-18 10:55:00', '2017-08-18 11:14:00',\n",
      "               '2017-08-18 11:40:00', '2017-08-18 11:45:00',\n",
      "               '2017-08-18 11:50:00', '2017-08-18 12:06:00',\n",
      "               ...\n",
      "               '2022-05-31 21:33:00', '2022-05-31 21:43:00',\n",
      "               '2022-05-31 22:05:00', '2022-05-31 22:13:00',\n",
      "               '2022-05-31 22:22:00', '2022-05-31 23:08:00',\n",
      "               '2022-05-31 23:21:00', '2022-05-31 23:38:00',\n",
      "               '2022-05-31 23:52:00', '2022-05-31 23:54:00'],\n",
      "              dtype='datetime64[ns]', name='dates', length=163198, freq=None)\n"
     ]
    },
    {
     "name": "stderr",
     "output_type": "stream",
     "text": [
      "2022-10-23 19:15:00.087108 100.0% applyPtSlOnT1 done after 11.2 minutes. Remaining 0.0 minutes.s.\n"
     ]
    },
    {
     "name": "stdout",
     "output_type": "stream",
     "text": [
      "-------------------------------------------------------------------------------\n",
      "dataframe information\n",
      "-------------------------------------------------------------------------------\n",
      "                     t1      trgt  side\n",
      "2022-05-31 23:08:00 NaT  0.006838  -1.0\n",
      "2022-05-31 23:21:00 NaT  0.006473   1.0\n",
      "2022-05-31 23:38:00 NaT  0.005505  -1.0\n",
      "2022-05-31 23:52:00 NaT  0.004797   1.0\n",
      "2022-05-31 23:54:00 NaT  0.004705  -1.0\n",
      "--------------------------------------------------\n",
      "<class 'pandas.core.frame.DataFrame'>\n",
      "DatetimeIndex: 161027 entries, 2017-08-18 04:04:00 to 2022-05-31 23:54:00\n",
      "Data columns (total 3 columns):\n",
      " #   Column  Non-Null Count   Dtype         \n",
      "---  ------  --------------   -----         \n",
      " 0   t1      161002 non-null  datetime64[ns]\n",
      " 1   trgt    161027 non-null  float64       \n",
      " 2   side    161027 non-null  float64       \n",
      "dtypes: datetime64[ns](1), float64(2)\n",
      "memory usage: 4.9 MB\n",
      "None\n",
      "-------------------------------------------------------------------------------\n",
      "\n"
     ]
    }
   ],
   "source": [
    "minRet = .001\n",
    "ptSl = [1,2]\n",
    "ma_events = getEvents(close, side['2017-08-18 03:48:00':].index, ptSl, target, minRet, cpus, t1 = t1, side = side)\n",
    "cprint(ma_events)"
   ]
  },
  {
   "cell_type": "code",
   "execution_count": 84,
   "metadata": {},
   "outputs": [
    {
     "data": {
      "text/plain": [
       "-1.0    80516\n",
       " 1.0    80511\n",
       "Name: side, dtype: int64"
      ]
     },
     "execution_count": 84,
     "metadata": {},
     "output_type": "execute_result"
    }
   ],
   "source": [
    "ma_events.side.value_counts()"
   ]
  },
  {
   "cell_type": "code",
   "execution_count": 85,
   "metadata": {},
   "outputs": [],
   "source": [
    "ma_side= ma_events.dropna().side"
   ]
  },
  {
   "cell_type": "code",
   "execution_count": 86,
   "metadata": {},
   "outputs": [],
   "source": [
    "ma_bins = getBins(ma_events,close).dropna()"
   ]
  },
  {
   "cell_type": "code",
   "execution_count": 96,
   "metadata": {},
   "outputs": [
    {
     "name": "stdout",
     "output_type": "stream",
     "text": [
      "-------------------------------------------------------------------------------\n",
      "dataframe information\n",
      "-------------------------------------------------------------------------------\n",
      "                          ret  bin\n",
      "2022-05-31 17:38:00  0.006235  1.0\n",
      "2022-05-31 17:47:00 -0.012368  0.0\n",
      "2022-05-31 18:21:00  0.005223  1.0\n",
      "2022-05-31 20:01:00  0.005489  1.0\n",
      "2022-05-31 20:12:00  0.005198  1.0\n",
      "--------------------------------------------------\n",
      "<class 'pandas.core.frame.DataFrame'>\n",
      "DatetimeIndex: 161002 entries, 2017-08-18 04:04:00 to 2022-05-31 20:12:00\n",
      "Data columns (total 2 columns):\n",
      " #   Column  Non-Null Count   Dtype  \n",
      "---  ------  --------------   -----  \n",
      " 0   ret     161002 non-null  float64\n",
      " 1   bin     161002 non-null  float64\n",
      "dtypes: float64(2)\n",
      "memory usage: 3.7 MB\n",
      "None\n",
      "-------------------------------------------------------------------------------\n",
      "\n"
     ]
    }
   ],
   "source": [
    "cprint(ma_bins)"
   ]
  },
  {
   "cell_type": "code",
   "execution_count": 88,
   "metadata": {},
   "outputs": [],
   "source": [
    "Xx = pd.merge_asof(ma_bins, side.to_frame().rename(columns = {0:'side'}),\n",
    "                   left_index = True, right_index = True, direction = 'forward')"
   ]
  },
  {
   "cell_type": "code",
   "execution_count": 89,
   "metadata": {},
   "outputs": [
    {
     "data": {
      "text/plain": [
       "13.186260443308289"
      ]
     },
     "execution_count": 89,
     "metadata": {},
     "output_type": "execute_result"
    }
   ],
   "source": [
    "Xx.ret.sum()"
   ]
  },
  {
   "cell_type": "code",
   "execution_count": 90,
   "metadata": {},
   "outputs": [],
   "source": [
    "from sklearn.ensemble import RandomForestClassifier\n",
    "from sklearn.model_selection import train_test_split\n",
    "from sklearn.metrics import roc_curve, classification_report"
   ]
  },
  {
   "cell_type": "code",
   "execution_count": 91,
   "metadata": {},
   "outputs": [
    {
     "data": {
      "text/html": [
       "<div>\n",
       "<style scoped>\n",
       "    .dataframe tbody tr th:only-of-type {\n",
       "        vertical-align: middle;\n",
       "    }\n",
       "\n",
       "    .dataframe tbody tr th {\n",
       "        vertical-align: top;\n",
       "    }\n",
       "\n",
       "    .dataframe thead th {\n",
       "        text-align: right;\n",
       "    }\n",
       "</style>\n",
       "<table border=\"1\" class=\"dataframe\">\n",
       "  <thead>\n",
       "    <tr style=\"text-align: right;\">\n",
       "      <th></th>\n",
       "      <th>0</th>\n",
       "    </tr>\n",
       "  </thead>\n",
       "  <tbody>\n",
       "    <tr>\n",
       "      <th>1.0</th>\n",
       "      <td>-1.0</td>\n",
       "    </tr>\n",
       "    <tr>\n",
       "      <th>0.0</th>\n",
       "      <td>1.0</td>\n",
       "    </tr>\n",
       "    <tr>\n",
       "      <th>0.0</th>\n",
       "      <td>-1.0</td>\n",
       "    </tr>\n",
       "    <tr>\n",
       "      <th>1.0</th>\n",
       "      <td>1.0</td>\n",
       "    </tr>\n",
       "    <tr>\n",
       "      <th>0.0</th>\n",
       "      <td>-1.0</td>\n",
       "    </tr>\n",
       "    <tr>\n",
       "      <th>...</th>\n",
       "      <td>...</td>\n",
       "    </tr>\n",
       "    <tr>\n",
       "      <th>1.0</th>\n",
       "      <td>-1.0</td>\n",
       "    </tr>\n",
       "    <tr>\n",
       "      <th>0.0</th>\n",
       "      <td>1.0</td>\n",
       "    </tr>\n",
       "    <tr>\n",
       "      <th>1.0</th>\n",
       "      <td>-1.0</td>\n",
       "    </tr>\n",
       "    <tr>\n",
       "      <th>1.0</th>\n",
       "      <td>1.0</td>\n",
       "    </tr>\n",
       "    <tr>\n",
       "      <th>1.0</th>\n",
       "      <td>1.0</td>\n",
       "    </tr>\n",
       "  </tbody>\n",
       "</table>\n",
       "<p>161002 rows × 1 columns</p>\n",
       "</div>"
      ],
      "text/plain": [
       "       0\n",
       "1.0 -1.0\n",
       "0.0  1.0\n",
       "0.0 -1.0\n",
       "1.0  1.0\n",
       "0.0 -1.0\n",
       "..   ...\n",
       "1.0 -1.0\n",
       "0.0  1.0\n",
       "1.0 -1.0\n",
       "1.0  1.0\n",
       "1.0  1.0\n",
       "\n",
       "[161002 rows x 1 columns]"
      ]
     },
     "execution_count": 91,
     "metadata": {},
     "output_type": "execute_result"
    }
   ],
   "source": [
    "X = ma_side.values.reshape(-1,1)\n",
    "y = ma_bins.bin.values\n",
    "pd.DataFrame(X,y)"
   ]
  },
  {
   "cell_type": "code",
   "execution_count": 92,
   "metadata": {},
   "outputs": [],
   "source": [
    "X_train, X_test, y_train, y_test = train_test_split(X,y,test_size=0.5, shuffle = False)"
   ]
  },
  {
   "cell_type": "code",
   "execution_count": 93,
   "metadata": {},
   "outputs": [
    {
     "data": {
      "text/plain": [
       "RandomForestClassifier(criterion='entropy', max_depth=2, n_estimators=777,\n",
       "                       random_state=777)"
      ]
     },
     "execution_count": 93,
     "metadata": {},
     "output_type": "execute_result"
    }
   ],
   "source": [
    "n_estimator = 777\n",
    "rf = RandomForestClassifier(max_depth = 2, n_estimators=n_estimator,\n",
    "                            criterion = 'entropy', random_state = RANDOM_STATE)\n",
    "rf.fit(X_train, y_train)"
   ]
  },
  {
   "cell_type": "code",
   "execution_count": 94,
   "metadata": {},
   "outputs": [
    {
     "name": "stdout",
     "output_type": "stream",
     "text": [
      "              precision    recall  f1-score   support\n",
      "\n",
      "         0.0       0.00      0.00      0.00     27548\n",
      "         1.0       0.66      1.00      0.79     52953\n",
      "\n",
      "    accuracy                           0.66     80501\n",
      "   macro avg       0.33      0.50      0.40     80501\n",
      "weighted avg       0.43      0.66      0.52     80501\n",
      "\n"
     ]
    },
    {
     "data": {
      "image/png": "[encoded data removed]",
      "text/plain": [
       "<Figure size 748.8x514.8 with 1 Axes>"
      ]
     },
     "metadata": {
      "needs_background": "light"
     },
     "output_type": "display_data"
    }
   ],
   "source": [
    "# The random forest model by itself\n",
    "\n",
    "y_pred_rf = rf.predict_proba(X_test)[:,1]\n",
    "y_pred = rf.predict(X_test)\n",
    "\n",
    "fpr_rf, tpr_rf, _ = roc_curve(y_test, y_pred_rf)\n",
    "print(classification_report(y_test, y_pred))\n",
    "      \n",
    "plt.figure(1)\n",
    "plt.plot([0, 1], [0, 1], 'k--')\n",
    "plt.plot(fpr_rf, tpr_rf, label='RF')\n",
    "plt.xlabel('False positive rate')\n",
    "plt.ylabel('True positive rate')\n",
    "plt.title('ROC curve')\n",
    "plt.legend(loc='best')\n",
    "plt.show()"
   ]
  },
  {
   "cell_type": "code",
   "execution_count": null,
   "metadata": {},
   "outputs": [],
   "source": []
  }
 ],
 "metadata": {
  "kernelspec": {
   "display_name": "Python 3.9.13 64-bit",
   "language": "python",
   "name": "python3"
  },
  "language_info": {
   "codemirror_mode": {
    "name": "ipython",
    "version": 3
   },
   "file_extension": ".py",
   "mimetype": "text/x-python",
   "name": "python",
   "nbconvert_exporter": "python",
   "pygments_lexer": "ipython3",
   "version": "3.9.13"
  },
  "vscode": {
   "interpreter": {
    "hash": "a665b5d41d17b532ea9890333293a1b812fa0b73c9c25c950b3cedf1bebd0438"
   }
  }
 },
 "nbformat": 4,
 "nbformat_minor": 2
}
